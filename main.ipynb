{
 "cells": [
  {
   "cell_type": "code",
   "execution_count": 1,
   "id": "10818e58",
   "metadata": {},
   "outputs": [],
   "source": [
    "# import libraries\n",
    "import pandas as pd\n",
    "import csv\n",
    "from pathlib import Path"
   ]
  },
  {
   "cell_type": "code",
   "execution_count": 2,
   "id": "708d8f19",
   "metadata": {},
   "outputs": [],
   "source": [
    "# import the csv file\n",
    "csv_path = Path(r\"C:\\Users\\Tracy Lao\\Desktop\\PyBank\\Resources\\Budget_data.csv\")"
   ]
  },
  {
   "cell_type": "code",
   "execution_count": 3,
   "id": "d6e4860d-af2d-4a8d-9271-4d3806599d0f",
   "metadata": {},
   "outputs": [],
   "source": [
    "# read the file into a dataframe using pandas\n",
    "budget_csv = pd.read_csv(csv_path)"
   ]
  },
  {
   "cell_type": "code",
   "execution_count": 4,
   "id": "21b9e1d6-cfed-4bdc-8d3d-cad67a3c9e57",
   "metadata": {},
   "outputs": [],
   "source": [
    "# initialize list of records\n",
    "results = \"Financial Analysis \\n---------------------------- \\n\""
   ]
  },
  {
   "cell_type": "code",
   "execution_count": 5,
   "id": "d0bcef97-4fe7-4b3e-b037-654f832ee322",
   "metadata": {},
   "outputs": [],
   "source": [
    "# count the total number of months\n",
    "total_months = budget_csv[\"Date\"].count()\n",
    "total_mths = \"Total Months: \" + str(total_months)"
   ]
  },
  {
   "cell_type": "code",
   "execution_count": 6,
   "id": "93f4e75c-7895-420a-8d15-9da2b549b805",
   "metadata": {},
   "outputs": [],
   "source": [
    "# create a new column storing data for monthly changes\n",
    "budget_csv[\"Monthly Changes\"] = budget_csv[\"Profit/Losses\"] - budget_csv[\"Profit/Losses\"].shift(1)"
   ]
  },
  {
   "cell_type": "code",
   "execution_count": 7,
   "id": "908fb5c8-2e00-4b41-8580-295de05fcde1",
   "metadata": {},
   "outputs": [],
   "source": [
    "# calculate the average of the changes in Profit/Losses over the entire period\n",
    "mean_change = round(budget_csv[\"Monthly Changes\"].mean(), 2)\n",
    "average_change = \"Average Change: $\" + str(mean_change)"
   ]
  },
  {
   "cell_type": "code",
   "execution_count": 8,
   "id": "6336d5b4-9bd7-4d35-9cf5-e65bcf4a291f",
   "metadata": {},
   "outputs": [],
   "source": [
    "# obtain the maximum increase and maximum decrease\n",
    "max_increase = int(budget_csv[\"Monthly Changes\"].max())\n",
    "max_decrease = int(budget_csv[\"Monthly Changes\"].min())\n",
    "\n",
    "# find the indices of max and min\n",
    "max_index = int(budget_csv[budget_csv[\"Monthly Changes\"] == max_increase].index.values)\n",
    "min_index = int(budget_csv[budget_csv[\"Monthly Changes\"] == max_decrease].index.values)\n",
    "\n",
    "\n",
    "#obtain the dates from the indices\n",
    "max_date = budget_csv[\"Date\"][max_index]\n",
    "min_date = budget_csv[\"Date\"][min_index]"
   ]
  },
  {
   "cell_type": "code",
   "execution_count": 9,
   "id": "dfcf3f77-85b3-485e-b0e8-8d6c5c1b40c6",
   "metadata": {},
   "outputs": [],
   "source": [
    "# output the result of maximum profit \n",
    "maximum_increase = \"Greatest Increase in Profits: \" + max_date + \" ($\" + str(max_increase) + \")\"\n",
    "\n",
    "# output the result of maximum losses \n",
    "maximum_decrease = \"Greatest Decrease in Profits: \" + min_date + \" ($\" + str(max_decrease) + \")\""
   ]
  },
  {
   "cell_type": "code",
   "execution_count": 10,
   "id": "c4f43ae8-ddcc-450c-9eff-2279fb959bbc",
   "metadata": {},
   "outputs": [],
   "source": [
    "# set variable for later calculation\n",
    "total_profit = 0\n",
    "\n",
    "# open the csv file as an object\n",
    "with open(csv_path, 'r') as csvfile:\n",
    "    \n",
    "    # pass the csv file to the reader function\n",
    "    # (with ',' as the delmiter/separator) and return the csvreader object\n",
    "    csvreader = csv.reader(csvfile, delimiter=',')\n",
    "    \n",
    "    # read the header row first\n",
    "    csv_header = next(csvreader)\n",
    "    \n",
    "    # set the 'date','profit/losses' varaibles for better readability\n",
    "    # and convert strings to ints for numerical calculations\n",
    "    for row in csvreader:\n",
    "        date = row[0]\n",
    "        profit_losses = int(row[1])\n",
    "    \n",
    "        # calculate the total revenue \n",
    "        total_profit += profit_losses\n",
    "        \n",
    "# output the result of total revenue as a string\n",
    "total_rev = \"Total: $\" + str(total_profit)"
   ]
  },
  {
   "cell_type": "code",
   "execution_count": 11,
   "id": "588bd159-ebc9-4e43-bf34-63dff6499f9b",
   "metadata": {},
   "outputs": [],
   "source": [
    "# concatenate all strings together\n",
    "results += total_mths + \"\\n\" + total_rev + \"\\n\" + average_change + \"\\n\" + str(maximum_increase) + \"\\n\" + str(maximum_decrease)"
   ]
  },
  {
   "cell_type": "code",
   "execution_count": 12,
   "id": "be86bba0-5426-447b-b2f2-8bed845ba2af",
   "metadata": {},
   "outputs": [],
   "source": [
    "# Set the path for the output.txt\n",
    "output = Path(\"results.txt\")"
   ]
  },
  {
   "cell_type": "code",
   "execution_count": 13,
   "id": "d0b611eb-c6d7-4b3f-b074-26d57fa357f5",
   "metadata": {},
   "outputs": [],
   "source": [
    "# output the result as a text file\n",
    "with open(\"results.txt\", \"w\") as f:\n",
    "    for result in results:\n",
    "        f.write(result)"
   ]
  }
 ],
 "metadata": {
  "kernelspec": {
   "display_name": "Python 3 (ipykernel)",
   "language": "python",
   "name": "python3"
  },
  "language_info": {
   "codemirror_mode": {
    "name": "ipython",
    "version": 3
   },
   "file_extension": ".py",
   "mimetype": "text/x-python",
   "name": "python",
   "nbconvert_exporter": "python",
   "pygments_lexer": "ipython3",
   "version": "3.7.15"
  }
 },
 "nbformat": 4,
 "nbformat_minor": 5
}
